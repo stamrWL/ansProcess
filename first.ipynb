{
 "cells": [
  {
   "cell_type": "code",
   "execution_count": null,
   "metadata": {},
   "outputs": [],
   "source": [
    "import pandas as pd\n",
    "from EventEnum import UsstEventType\n",
    "import os"
   ]
  },
  {
   "cell_type": "code",
   "execution_count": null,
   "metadata": {},
   "outputs": [],
   "source": [
    "\n",
    "TaskStart = {}\n",
    "ToleranteTime = {}\n",
    "\n",
    "\n",
    "reader = pd.read_csv(r'task6.csv',header= None,chunksize=10000)\n",
    "index = 0\n",
    "for Chunk in reader:\n",
    "    for line in Chunk.values.tolist():\n",
    "        TaskStart[index] = float(line[0])\n",
    "        ToleranteTime[index] = float(line[1])\n",
    "        index += 1\n"
   ]
  },
  {
   "cell_type": "code",
   "execution_count": null,
   "metadata": {},
   "outputs": [],
   "source": [
    "outPath = '4_4_5_200_1'\n",
    "# a_b_c_d_e\n",
    "# a和b表示切分后的卫星分片的规模\n",
    "# c表示的是使用的任务集序号\n",
    "# d是表示一秒内产生的任务数量\n",
    "# e地面站数量\n",
    "if not os.path.exists(outPath):\n",
    "    os.makedirs(outPath)"
   ]
  },
  {
   "cell_type": "code",
   "execution_count": null,
   "metadata": {},
   "outputs": [],
   "source": [
    "# reader = pd.read_csv(r'out\\main\\4_4_4_400.csv',header= None,chunksize=10000)\n",
    "\n",
    "Path = r'out\\20240529_10\\main'\n",
    "\n",
    "# 获取目录下的所有文件\n",
    "files = os.listdir(Path)\n",
    "\n",
    "# 过滤出CSV文件\n",
    "csv_files = [f for f in files if f.endswith('.csv')]\n",
    "\n",
    "TaskCostTime = {}\n",
    "GetTargetCostTime = {}\n",
    "waitProcess = {}\n",
    "TouchAllcTime = {}\n",
    "ProcessCostTime = {}\n",
    "TransmiteCostTime = {}\n",
    "\n",
    "TaskPreProcess = {}\n",
    "TaskFinsh = {}\n",
    "\n",
    "processNode = {}\n",
    "allocationNode = {}\n",
    "\n",
    "for csv_path in csv_files:\n",
    "    reader = pd.read_csv(os.path.join(Path,csv_path),header= None,chunksize=3000)\n",
    "    for Chunk in reader:\n",
    "        for line in Chunk.values.tolist():\n",
    "            TaskID = int(line[0])\n",
    "            EventType = UsstEventType(int(line[2]))\n",
    "            if EventType == UsstEventType.Transmission:\n",
    "                TransmiteCostTime.setdefault(TaskID,0)\n",
    "                TransmiteCostTime[TaskID] += float(line[4]-line[3])\n",
    "            elif EventType == UsstEventType.Allocation:\n",
    "                LocNode = int(line[-1]) \n",
    "                startTime = float(line[3])\n",
    "                endTime = float(line[4])\n",
    "                allocationNode.setdefault(LocNode,0)\n",
    "                allocationNode[LocNode] += 1\n",
    "                TouchAllcTime[TaskID] = startTime - TaskStart[TaskID]\n",
    "                GetTargetCostTime[TaskID] = endTime - TaskStart[TaskID]\n",
    "            elif EventType == UsstEventType.waitProcess:\n",
    "                startTime = float(line[3])\n",
    "                endTime = float(line[4])\n",
    "                waitProcess[TaskID] = endTime - startTime\n",
    "            elif EventType == UsstEventType.preProcess:\n",
    "                endTime = float(line[4])\n",
    "                TaskPreProcess[TaskID] = endTime - TaskStart[TaskID]\n",
    "            elif EventType == UsstEventType.Process:\n",
    "                LocNode = int(line[-1]) \n",
    "                endTime = float(line[4])\n",
    "                startTime = float(line[3])\n",
    "                ProcessCostTime[TaskID] = endTime - startTime\n",
    "                processNode.setdefault(LocNode,0)\n",
    "                processNode[LocNode] += 1\n",
    "            elif EventType == UsstEventType.End:\n",
    "                endTime = float(line[4])\n",
    "                TaskFinsh[TaskID] = endTime - TaskStart[TaskID]\n"
   ]
  },
  {
   "cell_type": "markdown",
   "metadata": {},
   "source": [
    "以下是整个任务完成消耗时间"
   ]
  },
  {
   "cell_type": "code",
   "execution_count": null,
   "metadata": {},
   "outputs": [],
   "source": [
    "import matplotlib.pyplot as plt\n",
    "import numpy as np\n",
    "\n",
    "SortedTaskFinsh = sorted(TaskFinsh.items())\n",
    "x = [TaskStart[a[0]] for a in SortedTaskFinsh]\n",
    "y = [a[1]*1000 for a in SortedTaskFinsh]\n",
    "\n",
    "\n",
    "\n",
    "plt.scatter(x,y,s=1)\n",
    "# plt.show()\n",
    "\n",
    "average = np.mean(y)\n",
    "print(average)\n",
    "plt.savefig(f'{outPath}/{average}TaskFinsh.png')"
   ]
  },
  {
   "cell_type": "markdown",
   "metadata": {},
   "source": [
    "以下是任务获得控制节点分配结果的延迟"
   ]
  },
  {
   "cell_type": "code",
   "execution_count": null,
   "metadata": {},
   "outputs": [],
   "source": [
    "plt.cla()\n",
    "\n",
    "Sorted = sorted(GetTargetCostTime.items())\n",
    "x = [TaskStart[a[0]] for a in Sorted]\n",
    "y = [a[1]*1000 for a in Sorted]\n",
    "\n",
    "plt.scatter(x,y,s=0.2)\n",
    "# plt.show()\n",
    "\n",
    "average = np.mean(y)\n",
    "print(average)\n",
    "plt.savefig(f'{outPath}/{average}GetTargetCostTime.png')"
   ]
  },
  {
   "cell_type": "markdown",
   "metadata": {},
   "source": [
    "以下是任务到达控制节点的延迟"
   ]
  },
  {
   "cell_type": "code",
   "execution_count": null,
   "metadata": {},
   "outputs": [],
   "source": [
    "plt.cla()\n",
    "\n",
    "Sorted = sorted(TouchAllcTime.items())\n",
    "x = [TaskStart[a[0]] for a in Sorted]\n",
    "y = [a[1]*1000 for a in Sorted]\n",
    "\n",
    "plt.scatter(x,y,s=0.2)\n",
    "# plt.show()\n",
    "\n",
    "average = np.mean(y)\n",
    "print(average)\n",
    "plt.savefig(f'{outPath}/{average}TouchAllcTime.png')"
   ]
  },
  {
   "cell_type": "code",
   "execution_count": null,
   "metadata": {},
   "outputs": [],
   "source": [
    "plt.cla()\n",
    "\n",
    "Sorted = sorted(waitProcess.items())\n",
    "x = [TaskStart[a[0]] for a in Sorted]\n",
    "y = [a[1]*1000 for a in Sorted]\n",
    "\n",
    "plt.scatter(x,y,s=5)\n",
    "# plt.show()\n",
    "\n",
    "average = np.mean(y)\n",
    "print(average)\n",
    "plt.savefig(f'{outPath}/{average}waitProcess.png')"
   ]
  },
  {
   "cell_type": "code",
   "execution_count": null,
   "metadata": {},
   "outputs": [],
   "source": [
    "plt.cla()\n",
    "\n",
    "Sorted = sorted(ProcessCostTime.items())\n",
    "x = [TaskStart[a[0]] for a in Sorted]\n",
    "y = [a[1]*1000 for a in Sorted]\n",
    "\n",
    "plt.scatter(x,y,s=0.5)\n",
    "# plt.show()\n",
    "\n",
    "average = np.mean(y)\n",
    "print(average)\n",
    "plt.savefig(f'{outPath}/{average}ProcessCostTime.png')"
   ]
  },
  {
   "cell_type": "code",
   "execution_count": null,
   "metadata": {},
   "outputs": [],
   "source": [
    "plt.cla()\n",
    "\n",
    "Sorted = sorted(TransmiteCostTime.items())\n",
    "x = [TaskStart[a[0]] for a in Sorted]\n",
    "y = [a[1]*1000 for a in Sorted]\n",
    "\n",
    "plt.scatter(x,y,s=5)\n",
    "# plt.show()\n",
    "\n",
    "average = np.mean(y)\n",
    "print(average)\n",
    "plt.savefig(f'{outPath}/{average}TransmiteCostTime.png')"
   ]
  },
  {
   "cell_type": "code",
   "execution_count": null,
   "metadata": {},
   "outputs": [],
   "source": [
    "plt.cla()\n",
    "\n",
    "maxTime = max(processNode.values())\n",
    "\n",
    "for i in range(144):\n",
    "    x = i // 12 + 1\n",
    "    y = i % 12 + 1\n",
    "    if i in processNode:\n",
    "        color = (1 - processNode[i]/maxTime,0.8,0.8)\n",
    "    else:\n",
    "        color = (1,0.8,0.8)\n",
    "    plt.scatter(x, y, color=color)\n",
    "\n",
    "plt.xlim(0, 13)  # 36\n",
    "plt.ylim(0, 13)  # 20\n",
    "plt.savefig(f'{outPath}/processNode.png')"
   ]
  },
  {
   "cell_type": "code",
   "execution_count": null,
   "metadata": {},
   "outputs": [],
   "source": [
    "plt.cla()\n",
    "\n",
    "maxTime = max(allocationNode.values())\n",
    "\n",
    "for i in range(144):\n",
    "    x = i // 12 + 1\n",
    "    y = i % 12 + 1\n",
    "    if i in allocationNode:\n",
    "        color = (1 - allocationNode[i]/maxTime,0.8,0.8)\n",
    "    else:\n",
    "        color = (1,0.8,0.8)\n",
    "    plt.scatter(x, y, color=color)\n",
    "\n",
    "plt.xlim(0, 13)  # 36\n",
    "plt.ylim(0, 13)  # 20\n",
    "plt.savefig(f'{outPath}/allocationNode.png')"
   ]
  }
 ],
 "metadata": {
  "kernelspec": {
   "display_name": "Python 3",
   "language": "python",
   "name": "python3"
  },
  "language_info": {
   "codemirror_mode": {
    "name": "ipython",
    "version": 3
   },
   "file_extension": ".py",
   "mimetype": "text/x-python",
   "name": "python",
   "nbconvert_exporter": "python",
   "pygments_lexer": "ipython3",
   "version": "3.7.9"
  }
 },
 "nbformat": 4,
 "nbformat_minor": 2
}
